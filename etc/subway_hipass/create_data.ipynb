{
 "cells": [
  {
   "cell_type": "code",
   "execution_count": 8,
   "metadata": {
    "collapsed": true
   },
   "outputs": [
    {
     "data": {
      "text/plain": "              id\n0      k5Z0-st0U\n1      bCiP-if3i\n2      GLPh-COUx\n3      6eQ7-2K1n\n4      az7k-j1Jn\n...          ...\n99995  EzL1-1Qp0\n99996  wlFX-AMwx\n99997  L2AD-ZpQQ\n99998  XTNZ-dSDr\n99999  faji-XtHL\n\n[100000 rows x 1 columns]",
      "text/html": "<div>\n<style scoped>\n    .dataframe tbody tr th:only-of-type {\n        vertical-align: middle;\n    }\n\n    .dataframe tbody tr th {\n        vertical-align: top;\n    }\n\n    .dataframe thead th {\n        text-align: right;\n    }\n</style>\n<table border=\"1\" class=\"dataframe\">\n  <thead>\n    <tr style=\"text-align: right;\">\n      <th></th>\n      <th>id</th>\n    </tr>\n  </thead>\n  <tbody>\n    <tr>\n      <th>0</th>\n      <td>k5Z0-st0U</td>\n    </tr>\n    <tr>\n      <th>1</th>\n      <td>bCiP-if3i</td>\n    </tr>\n    <tr>\n      <th>2</th>\n      <td>GLPh-COUx</td>\n    </tr>\n    <tr>\n      <th>3</th>\n      <td>6eQ7-2K1n</td>\n    </tr>\n    <tr>\n      <th>4</th>\n      <td>az7k-j1Jn</td>\n    </tr>\n    <tr>\n      <th>...</th>\n      <td>...</td>\n    </tr>\n    <tr>\n      <th>99995</th>\n      <td>EzL1-1Qp0</td>\n    </tr>\n    <tr>\n      <th>99996</th>\n      <td>wlFX-AMwx</td>\n    </tr>\n    <tr>\n      <th>99997</th>\n      <td>L2AD-ZpQQ</td>\n    </tr>\n    <tr>\n      <th>99998</th>\n      <td>XTNZ-dSDr</td>\n    </tr>\n    <tr>\n      <th>99999</th>\n      <td>faji-XtHL</td>\n    </tr>\n  </tbody>\n</table>\n<p>100000 rows × 1 columns</p>\n</div>"
     },
     "execution_count": 8,
     "metadata": {},
     "output_type": "execute_result"
    }
   ],
   "source": [
    "import string\n",
    "import random\n",
    "import pandas as pd\n",
    "import datetime\n",
    "\n",
    "MAX_LEN = 8\n",
    "\n",
    "random_id = string.ascii_letters + string.digits\n",
    "\n",
    "id = []\n",
    "for i in range(100000):\n",
    "    result = \"\"\n",
    "    for i in range(MAX_LEN):\n",
    "        if i == 4:\n",
    "            result += \"-\"\n",
    "        result += random.choice(random_id)\n",
    "    id.append(result)\n",
    "\n",
    "id_data = pd.DataFrame(id)\n",
    "id_data.columns = ['id']\n",
    "id_data"
   ]
  },
  {
   "cell_type": "code",
   "execution_count": 10,
   "outputs": [],
   "source": [
    "now = datetime.datetime.now()\n",
    "nowDate = now.strftime(\"%Y%m%d\")\n",
    "id_data.to_csv('./example_id_' + nowDate + '.csv', mode = 'w')"
   ],
   "metadata": {
    "collapsed": false,
    "pycharm": {
     "name": "#%%\n"
    }
   }
  },
  {
   "cell_type": "code",
   "execution_count": 15,
   "outputs": [
    {
     "data": {
      "text/plain": "0        False\n1        False\n2        False\n3        False\n4        False\n         ...  \n99995    False\n99996    False\n99997    False\n99998    False\n99999    False\nLength: 100000, dtype: bool"
     },
     "execution_count": 15,
     "metadata": {},
     "output_type": "execute_result"
    }
   ],
   "source": [
    "id_data.duplicated(['id'])"
   ],
   "metadata": {
    "collapsed": false,
    "pycharm": {
     "name": "#%%\n"
    }
   }
  }
 ],
 "metadata": {
  "kernelspec": {
   "display_name": "Python 3",
   "language": "python",
   "name": "python3"
  },
  "language_info": {
   "codemirror_mode": {
    "name": "ipython",
    "version": 2
   },
   "file_extension": ".py",
   "mimetype": "text/x-python",
   "name": "python",
   "nbconvert_exporter": "python",
   "pygments_lexer": "ipython2",
   "version": "2.7.6"
  }
 },
 "nbformat": 4,
 "nbformat_minor": 0
}